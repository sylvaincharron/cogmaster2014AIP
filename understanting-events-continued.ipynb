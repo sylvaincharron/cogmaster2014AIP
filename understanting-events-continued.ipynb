{
 "metadata": {
  "name": "",
  "signature": "sha256:8d3ea2d34e9f2a35f5725ecb072c84e97c58b13431acce0270703f9c65af50a6"
 },
 "nbformat": 3,
 "nbformat_minor": 0,
 "worksheets": [
  {
   "cells": [
    {
     "cell_type": "markdown",
     "metadata": {},
     "source": [
      "### Now we will work on the other way to retrieve events : `pygame.event.poll()`\n",
      "Check the code, read the comments"
     ]
    },
    {
     "cell_type": "code",
     "collapsed": false,
     "input": [
      "import os\n",
      "wpos_x = 10\n",
      "wpos_y = 10\n",
      "os.environ['SDL_VIDEO_WINDOW_POS'] = \"%d,%d\" % (wpos_x,wpos_y)\n",
      "\n",
      "import pygame\n",
      "\n",
      "#the following line is needed to access the functions dealong with events\n",
      "from pygame.locals import *\n",
      "\n",
      "import random\n",
      "\n",
      "bg_color = (0,0,0)\n",
      "stim_color = (255,255,255)\n",
      "w_width = 640\n",
      "w_height = 480\n",
      "\n",
      "# prepare position of vertices for the polygon stimulus, here a triangle\n",
      "stim_vertices=[(w_width/2,w_height/2-100),(w_width/2-50,w_height/2+50),(w_width/2+50,w_height/2+50)]\n",
      "\n",
      "try:\n",
      "    pygame.init()\n",
      "    w = pygame.display.set_mode((w_width,w_height))\n",
      "\n",
      "    w.fill(bg_color)\n",
      "    pygame.display.flip()\n",
      "    pygame.time.wait(1000+random.randint(0,1000))\n",
      "    \n",
      "    pygame.draw.polygon(w,stim_color,stim_vertices)\n",
      "    \n",
      "    reaction_time_marker=0 % # Reaction Time corresponds of the first keypress, so you can use a counter to keep track of which keypress has to be taken into account\n",
      "    \n",
      "    pygame.display.flip() # show the stimulus\n",
      "    t0 = pygame.time.get_ticks() # immediately after displaying the stim, record the time in a variable\n",
      "    \n",
      "    #pygame.time.wait(2000)\n",
      "    \n",
      "    while pygame.time.get_ticks()-t0 < 1000: # the time duning which the stimulus is displayed is actually defined here by the time during which the loop is looping\n",
      "        e = pygame.event.poll(): # retrieve the event happening right when the function is executed\n",
      "        if reaction_time_marker == 0 and e.type == KEYDOWN and (e.key == K_a or e.key == K_e): # if there was no keypress before and the event retrieved is a keypress and the key pressed is either a or e, then we record time with the following block of instructions\n",
      "            reaction_time = pygame.time.get_ticks() - t0 # compute the raction time as the time right after the condition has been evaluated as true and substracting the time at which the stimulus showed up on the display\n",
      "            print t # to see the time in the output window\n",
      "            reaction_time_marker=1 # when the condition is true, i.e. when reaction_time_marker == 0, then after recording the reaction time, then the counter turns to 1, and the condition will never turn out to be true again, so we keep one value for reaction time and not erase it the next time the loop loops \n",
      "                \n",
      "\n",
      "    w.fill(bg_color)\n",
      "    pygame.display.flip()   \n",
      "    pygame.time.wait(1000)\n",
      "\n",
      "finally:                    \n",
      "    pygame.quit()"
     ],
     "language": "python",
     "metadata": {},
     "outputs": []
    }
   ],
   "metadata": {}
  }
 ]
}