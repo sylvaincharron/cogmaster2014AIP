{
 "metadata": {
  "name": "",
  "signature": "sha256:cd7ab69778c0727bf71343d534762a18f36787328d17c7e66d626a4bb26e5318"
 },
 "nbformat": 3,
 "nbformat_minor": 0,
 "worksheets": [
  {
   "cells": [
    {
     "cell_type": "code",
     "collapsed": false,
     "input": [
      "import random\n",
      "a=range(10)"
     ],
     "language": "python",
     "metadata": {},
     "outputs": [],
     "prompt_number": 1
    },
    {
     "cell_type": "code",
     "collapsed": false,
     "input": [
      "print a\n"
     ],
     "language": "python",
     "metadata": {},
     "outputs": [
      {
       "output_type": "stream",
       "stream": "stdout",
       "text": [
        "[0, 1, 2, 3, 4, 5, 6, 7, 8, 9]\n"
       ]
      }
     ],
     "prompt_number": 2
    },
    {
     "cell_type": "code",
     "collapsed": false,
     "input": [
      "x=random.shuffle(a)\n",
      "random.shuffle?"
     ],
     "language": "python",
     "metadata": {},
     "outputs": [],
     "prompt_number": 8
    },
    {
     "cell_type": "code",
     "collapsed": false,
     "input": [
      "print x\n"
     ],
     "language": "python",
     "metadata": {},
     "outputs": [
      {
       "output_type": "stream",
       "stream": "stdout",
       "text": [
        "None\n"
       ]
      }
     ],
     "prompt_number": 5
    },
    {
     "cell_type": "code",
     "collapsed": false,
     "input": [
      "def afficher_bonjour():\n",
      "    print 'bonjour'\n",
      "\n",
      "afficher_bonjour()"
     ],
     "language": "python",
     "metadata": {},
     "outputs": [
      {
       "output_type": "stream",
       "stream": "stdout",
       "text": [
        "bonjour\n"
       ]
      }
     ],
     "prompt_number": 7
    },
    {
     "cell_type": "code",
     "collapsed": false,
     "input": [
      "sos=0.0\n",
      "the_list=[2,4,3,6,1,8]\n",
      "for element in the_list:\n",
      "    print \"the element is {}\".format(element)\n",
      "    sos=sos + element\n",
      "    print \"and now the added elements sum up to {}\".format(sos)\n",
      "print \"the sum of elements is {}\".format(sos)"
     ],
     "language": "python",
     "metadata": {},
     "outputs": [
      {
       "output_type": "stream",
       "stream": "stdout",
       "text": [
        "the element is 2\n",
        "and now the added elements sum up to 2.0\n",
        "the element is 4\n",
        "and now the added elements sum up to 6.0\n",
        "the element is 3\n",
        "and now the added elements sum up to 9.0\n",
        "the element is 6\n",
        "and now the added elements sum up to 15.0\n",
        "the element is 1\n",
        "and now the added elements sum up to 16.0\n",
        "the element is 8\n",
        "and now the added elements sum up to 24.0\n",
        "the sum of elements is 24.0\n"
       ]
      }
     ],
     "prompt_number": 14
    },
    {
     "cell_type": "code",
     "collapsed": false,
     "input": [
      "congruent=[123,464,462,562,235,241,482]\n",
      "def moyenne(a_list):\n",
      "    a_float=0.0\n",
      "    sum_of_stuff=0.0\n",
      "    for element in a_list:\n",
      "        sum_of_stuff = sum_of_stuff + element\n",
      "    a_float=sum_of_stuff/len(a_list)\n",
      "    return a_float\n",
      "\n",
      "moyenne([1,1,1,1])"
     ],
     "language": "python",
     "metadata": {},
     "outputs": [
      {
       "metadata": {},
       "output_type": "pyout",
       "prompt_number": 17,
       "text": [
        "1.0"
       ]
      }
     ],
     "prompt_number": 17
    },
    {
     "cell_type": "code",
     "collapsed": false,
     "input": [
      "moyenne()"
     ],
     "language": "python",
     "metadata": {},
     "outputs": []
    }
   ],
   "metadata": {}
  }
 ]
}